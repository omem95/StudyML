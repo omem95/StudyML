{
 "cells": [
  {
   "cell_type": "code",
   "execution_count": 2,
   "id": "0f64f992",
   "metadata": {},
   "outputs": [
    {
     "name": "stdout",
     "output_type": "stream",
     "text": [
      "검색어: chatgpt\n"
     ]
    },
    {
     "name": "stderr",
     "output_type": "stream",
     "text": [
      "C:\\Users\\hj\\AppData\\Local\\Temp\\ipykernel_4284\\2252054339.py:18: DeprecationWarning: executable_path has been deprecated, please pass in a Service object\n",
      "  driver = webdriver.Chrome('./chromedriver')#, options=options)\n"
     ]
    },
    {
     "data": {
      "text/plain": [
       "<bound method WebDriver.close of <selenium.webdriver.chrome.webdriver.WebDriver (session=\"32fb0fb4746b7f19fa05e93f9517fe06\")>>"
      ]
     },
     "execution_count": 2,
     "metadata": {},
     "output_type": "execute_result"
    }
   ],
   "source": [
    "from selenium import webdriver\n",
    "from selenium.webdriver.ie.options import Options\n",
    "from selenium.webdriver.common.by import By\n",
    "from selenium.webdriver.common.keys import Keys\n",
    "from bs4 import BeautifulSoup as bs\n",
    "import time\n",
    "import requests\n",
    "\n",
    "count = 0\n",
    "num = 0\n",
    "text_df = []\n",
    "#options = webdriver.ChromeOptions()\n",
    "#options.add_argument('headless')\n",
    "#options.add_argument('window-size=1920x1080')\n",
    "#options.add_argument('disable-gpu')\n",
    "\n",
    "query = input('검색어: ')\n",
    "driver = webdriver.Chrome('./chromedriver')#, options=options)\n",
    "\n",
    "\n",
    "driver.get(url='https://www.naver.com')\n",
    "time.sleep(1)\n",
    "\n",
    "search_box = driver.find_element(By.CSS_SELECTOR,'input#query')\n",
    "search_box.send_keys(query)\n",
    "search_box.send_keys(Keys.RETURN)\n",
    "time.sleep(1)\n",
    "\n",
    "driver.find_element(By.XPATH,'//*[@id=\"lnb\"]/div[1]/div/ul/li[8]/a').click()\n",
    "\n",
    "while True:\n",
    "    try:\n",
    "        driver.find_element(By.XPATH,'//*[@id=\"sp_nws1\"]/div/div/div[1]/div[2]/a[2]').click() # <<<<< 어떻게 기사들 차례대로 넣을지\n",
    "        num = num + 1\n",
    "        count = count + 1\n",
    "        last_tab = driver.window_handles[-1]\n",
    "        driver.switch_to.window(window_name = last_tab)\n",
    "        article_id = driver.find_element(By.ID, 'dic_area')\n",
    "        article = article_id.text\n",
    "        text_df.append(article)\n",
    "        \n",
    "        driver.close()\n",
    "        first_tab = driver.window_handles[0]\n",
    "        driver.switch_to.window(window_name = first_tab)\n",
    "        \n",
    "        if count == 3:\n",
    "            break\n",
    "    except:\n",
    "        pass\n",
    "\n",
    "driver.close"
   ]
  },
  {
   "cell_type": "code",
   "execution_count": null,
   "id": "1b830f77",
   "metadata": {},
   "outputs": [],
   "source": []
  },
  {
   "cell_type": "code",
   "execution_count": null,
   "id": "a58a4eff",
   "metadata": {},
   "outputs": [],
   "source": [
    "\n",
    "opbtn = driver.find_element(By.XPATH,'//*[@id=\"snb\"]/div[1]/div/div[2]/a')\n",
    "driver.execute_script(\"arguments[0].click();\", opbtn)\n",
    "driver.find_element(By.XPATH,'//*[@id=\"snb\"]/div[2]/ul/li[3]/div/div/a[4]').click()\n",
    "time.sleep(1)"
   ]
  }
 ],
 "metadata": {
  "kernelspec": {
   "display_name": "Python 3 (ipykernel)",
   "language": "python",
   "name": "python3"
  },
  "language_info": {
   "codemirror_mode": {
    "name": "ipython",
    "version": 3
   },
   "file_extension": ".py",
   "mimetype": "text/x-python",
   "name": "python",
   "nbconvert_exporter": "python",
   "pygments_lexer": "ipython3",
   "version": "3.9.16"
  }
 },
 "nbformat": 4,
 "nbformat_minor": 5
}
